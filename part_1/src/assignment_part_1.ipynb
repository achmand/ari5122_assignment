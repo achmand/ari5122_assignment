{
 "cells": [
  {
   "cell_type": "code",
   "execution_count": 1,
   "metadata": {},
   "outputs": [],
   "source": [
    "# importing libraries\n",
    "import prices as pr # python code written for prices \n",
    "import pandas as pd\n",
    "from IPython.display import display "
   ]
  },
  {
   "cell_type": "code",
   "execution_count": 2,
   "metadata": {},
   "outputs": [
    {
     "name": "stdout",
     "output_type": "stream",
     "text": [
      "[*********************100%***********************]  1 of 1 downloaded\n",
      "[*********************100%***********************]  1 of 1 downloaded\n"
     ]
    }
   ],
   "source": [
    "# if data is already downloaded you can skip this cell\n",
    "\n",
    "# path where data is saved\n",
    "data_path = \"data/\"\n",
    "\n",
    "# ^GSPC: S&P 500\n",
    "# ^FTSE: FTSE 100\n",
    "# GLD: Gold (SPDR)\n",
    "tickers = [\"^GSPC\",\"GLD\"] # ASK ABOUT FTSE SOME PROBLEMS .. \n",
    "start_date = \"2016-01-01\"\n",
    "end_date = \"2018-01-01\"\n",
    "\n",
    "# downloads the prices from yahoo finance and saves as csv\n",
    "pr.download_prices_csv(tickers, start_date, end_date, data_path)"
   ]
  },
  {
   "cell_type": "code",
   "execution_count": 3,
   "metadata": {},
   "outputs": [],
   "source": [
    "# df_gld = pd.read_csv(\"GLD.csv\")\n",
    "# df_gspc = pd.read_csv(\"^GSPC.csv\")\n",
    "# display(df_gspc.shape)"
   ]
  },
  {
   "cell_type": "code",
   "execution_count": null,
   "metadata": {},
   "outputs": [],
   "source": []
  }
 ],
 "metadata": {
  "kernelspec": {
   "display_name": "ari51220",
   "language": "python",
   "name": "ari51220"
  },
  "language_info": {
   "codemirror_mode": {
    "name": "ipython",
    "version": 3
   },
   "file_extension": ".py",
   "mimetype": "text/x-python",
   "name": "python",
   "nbconvert_exporter": "python",
   "pygments_lexer": "ipython3",
   "version": "3.7.0"
  }
 },
 "nbformat": 4,
 "nbformat_minor": 2
}
