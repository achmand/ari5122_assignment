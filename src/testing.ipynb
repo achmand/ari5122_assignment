{
 "cells": [
  {
   "cell_type": "code",
   "execution_count": 1,
   "metadata": {},
   "outputs": [],
   "source": [
    "import numpy as np\n",
    "import pandas as pd\n",
    "import statsmodels.formula.api as smf\n",
    "import statsmodels.tsa.api as smt\n",
    "import statsmodels.api as sm\n",
    "import scipy.stats as scs\n",
    "from arch import arch_model\n",
    "import fix_yahoo_finance as yf\n",
    "from pandas_datareader import data as pdr\n"
   ]
  },
  {
   "cell_type": "code",
   "execution_count": 2,
   "metadata": {},
   "outputs": [
    {
     "name": "stdout",
     "output_type": "stream",
     "text": [
      "[*********************100%***********************]  1 of 1 downloaded\n",
      "Iteration:      5,   Func. Count:     47,   Neg. LLF: -5762.344992495958\n",
      "Iteration:     10,   Func. Count:     85,   Neg. LLF: -5763.501742672557\n",
      "Optimization terminated successfully.    (Exit mode 0)\n",
      "            Current function value: -5763.515898452715\n",
      "            Iterations: 12\n",
      "            Function evaluations: 110\n",
      "            Gradient evaluations: 12\n",
      "                     Constant Mean - GARCH Model Results                      \n",
      "==============================================================================\n",
      "Dep. Variable:                returns   R-squared:                      -0.000\n",
      "Mean Model:             Constant Mean   Adj. R-squared:                 -0.000\n",
      "Vol Model:                      GARCH   Log-Likelihood:                5763.52\n",
      "Distribution:                  Normal   AIC:                          -11519.0\n",
      "Method:            Maximum Likelihood   BIC:                          -11496.6\n",
      "                                        No. Observations:                 2013\n",
      "Date:                Fri, Feb 01 2019   Df Residuals:                     2009\n",
      "Time:                        18:52:40   Df Model:                            4\n",
      "                                 Mean Model                                 \n",
      "============================================================================\n",
      "                 coef    std err          t      P>|t|      95.0% Conf. Int.\n",
      "----------------------------------------------------------------------------\n",
      "mu         8.3513e-04  2.942e-04      2.839  4.532e-03 [2.585e-04,1.412e-03]\n",
      "                              Volatility Model                              \n",
      "============================================================================\n",
      "                 coef    std err          t      P>|t|      95.0% Conf. Int.\n",
      "----------------------------------------------------------------------------\n",
      "omega      4.0105e-05  1.613e-06     24.864 1.834e-136 [3.694e-05,4.327e-05]\n",
      "alpha[1]       0.1016  3.783e-02      2.686  7.239e-03   [2.745e-02,  0.176]\n",
      "beta[1]        0.7018  3.353e-02     20.931  2.767e-97     [  0.636,  0.768]\n",
      "============================================================================\n",
      "\n",
      "Covariance estimator: robust\n",
      "Annualized Volatility - Historic Method: 22.29%\n",
      "Annualized Volatility - Garch(1,1): 18.90%\n",
      "                h.1       h.2       h.3       h.4       h.5\n",
      "Date                                                       \n",
      "2017-12-22      NaN       NaN       NaN       NaN       NaN\n",
      "2017-12-26      NaN       NaN       NaN       NaN       NaN\n",
      "2017-12-27      NaN       NaN       NaN       NaN       NaN\n",
      "2017-12-28      NaN       NaN       NaN       NaN       NaN\n",
      "2017-12-29  0.00014  0.000153  0.000163  0.000171  0.000178\n"
     ]
    }
   ],
   "source": [
    "date_start = \"2010-01-01\"\n",
    "date_end = \"2017-12-31\"\n",
    "\n",
    "sym1 = 'MSFT' \n",
    "\n",
    "data = pd.DataFrame()\n",
    "yf.pdr_override() \n",
    "data = pdr.get_data_yahoo(sym1, start=date_start, end=date_end)\n",
    "data['returns'] = np.log(data['Adj Close'] / data['Adj Close'].shift(1))\n",
    "data = data.dropna() \n",
    "data['sqrReturns'] = data.returns**2\n",
    "\n",
    "hvar = np.mean(data.sqrReturns)\n",
    "hstd = np.sqrt(hvar) #historic daily vol\n",
    "\n",
    "# Fit a GARCH(1, 1) model \n",
    "# We use the arch_model function from the ARCH package\n",
    "\n",
    "am = arch_model(data.returns, vol='Garch', p=1, o=0, q=1, dist='Normal')\n",
    "res = am.fit(update_freq=5)\n",
    "print(res.summary())\n",
    "\n",
    "condvol=res.conditional_volatility.iloc[-1]\n",
    "print('Annualized Volatility - Historic Method: %5.2f%%' % (hstd*np.sqrt(252)*100))\n",
    "print('Annualized Volatility - Garch(1,1): %5.2f%%' % (condvol*np.sqrt(252)*100))\n",
    "\n",
    "\n",
    "forecasts = res.forecast(horizon=5)\n",
    "print(forecasts.variance.tail())"
   ]
  },
  {
   "cell_type": "code",
   "execution_count": 3,
   "metadata": {},
   "outputs": [],
   "source": [
    "import fintech.finmodels as fm"
   ]
  },
  {
   "cell_type": "code",
   "execution_count": 7,
   "metadata": {},
   "outputs": [
    {
     "name": "stdout",
     "output_type": "stream",
     "text": [
      "Iteration:      5,   Func. Count:     47,   Neg. LLF: -5762.344992495958\n",
      "Iteration:     10,   Func. Count:     85,   Neg. LLF: -5763.501742672557\n",
      "Optimization terminated successfully.    (Exit mode 0)\n",
      "            Current function value: -5763.515898452715\n",
      "            Iterations: 12\n",
      "            Function evaluations: 110\n",
      "            Gradient evaluations: 12\n",
      "                     Constant Mean - GARCH Model Results                      \n",
      "==============================================================================\n",
      "Dep. Variable:                returns   R-squared:                      -0.000\n",
      "Mean Model:             Constant Mean   Adj. R-squared:                 -0.000\n",
      "Vol Model:                      GARCH   Log-Likelihood:                5763.52\n",
      "Distribution:                  Normal   AIC:                          -11519.0\n",
      "Method:            Maximum Likelihood   BIC:                          -11496.6\n",
      "                                        No. Observations:                 2013\n",
      "Date:                Fri, Feb 01 2019   Df Residuals:                     2009\n",
      "Time:                        18:53:26   Df Model:                            4\n",
      "                                 Mean Model                                 \n",
      "============================================================================\n",
      "                 coef    std err          t      P>|t|      95.0% Conf. Int.\n",
      "----------------------------------------------------------------------------\n",
      "mu         8.3513e-04  2.942e-04      2.839  4.532e-03 [2.585e-04,1.412e-03]\n",
      "                              Volatility Model                              \n",
      "============================================================================\n",
      "                 coef    std err          t      P>|t|      95.0% Conf. Int.\n",
      "----------------------------------------------------------------------------\n",
      "omega      4.0105e-05  1.613e-06     24.864 1.834e-136 [3.694e-05,4.327e-05]\n",
      "alpha[1]       0.1016  3.783e-02      2.686  7.239e-03   [2.745e-02,  0.176]\n",
      "beta[1]        0.7018  3.353e-02     20.931  2.767e-97     [  0.636,  0.768]\n",
      "============================================================================\n",
      "\n",
      "Covariance estimator: robust\n",
      "Annualized Volatility - Garch(1,1): 18.9%\n"
     ]
    }
   ],
   "source": [
    "conditional_vol = fm.garch_vol(data.returns)\n",
    "annualized_vol = (conditional_vol*np.sqrt(252)*100)\n",
    "print(\"Annualized Volatility - Garch(1,1): {0}%\".format(round(annualized_vol,2)))"
   ]
  },
  {
   "cell_type": "code",
   "execution_count": null,
   "metadata": {},
   "outputs": [],
   "source": []
  }
 ],
 "metadata": {
  "kernelspec": {
   "display_name": "ari51220",
   "language": "python",
   "name": "ari51220"
  },
  "language_info": {
   "codemirror_mode": {
    "name": "ipython",
    "version": 3
   },
   "file_extension": ".py",
   "mimetype": "text/x-python",
   "name": "python",
   "nbconvert_exporter": "python",
   "pygments_lexer": "ipython3",
   "version": "3.7.0"
  }
 },
 "nbformat": 4,
 "nbformat_minor": 2
}
